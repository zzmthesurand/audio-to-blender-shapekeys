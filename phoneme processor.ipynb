{
 "cells": [
  {
   "cell_type": "code",
   "execution_count": null,
   "metadata": {},
   "outputs": [],
   "source": [
    "!pip install allosaurus"
   ]
  },
  {
   "cell_type": "markdown",
   "metadata": {},
   "source": [
    "# Input Variables\n",
    "change these according to what you need.\n",
    "- Max Duration: the amount of time a phoneme can go before defaulting to the \"basis\" mouth shape\n",
    "- Filepath: the filepath of the .wav file"
   ]
  },
  {
   "cell_type": "code",
   "execution_count": 38,
   "metadata": {},
   "outputs": [],
   "source": [
    "MAX_DURATION = 0.5\n",
    "FILEPATH = \"fortnite.wav\""
   ]
  },
  {
   "cell_type": "markdown",
   "metadata": {},
   "source": [
    "# Initialization\n",
    "just some functions and variables we need to declare before running the script. i put it in another cell just so you don't have to rerun import code if you want to process another file.\n",
    "not all of this is essential for blender usage"
   ]
  },
  {
   "cell_type": "code",
   "execution_count": 39,
   "metadata": {},
   "outputs": [],
   "source": [
    "import pandas as pd\n",
    "import numpy as np\n",
    "import math\n",
    "from allosaurus.app import read_recognizer\n",
    "model = read_recognizer(\"eng2102\")\n",
    "\n",
    "def replace(s, r, leading=\"\"):\n",
    "    return [r.get(x, x) for x in s]\n",
    "\n",
    "def findPhonemeGroup(phoneme: str):\n",
    "    phonemeList =   [[\"e\", \"æ\", \"eː\", \"ɻ\", \"ʁ\", \"ɹ̩\", \"ɻ̩\", \"a\", \"ɒ\", \"ɑ\", \"ʌ\", \"x\", \"ɾ\", \"ɾʲ\", \"ɪ\", \"ɛ\", \"v̞ʲ\", \"ɕ\", \"ɛ̃\", \"h\"], # aei \n",
    "                    [\"k\", \"d\", \"d͡ʒ\", \"kʰ\", \"dʒ\", \"k̟ʲ\", \"dʲ\", \"t\", \"tʰ\", \"tʂ\", \"tʲ\", \"t͡ʃʲ\", \"t̪\", \"t͡ʃ\", \"ts\", \"tɕ\", \"tɕʰ\", \"tʂʰ\"], # cdkg \n",
    "                    [\"b\", \"m\", \"p\", \"mʲ\", \"b̞\", \"b̤\", \"pʲ\"], # m \n",
    "                    [\"n\", \"ŋ\", \"ɡ\", \"ɴ\", \"ɳ\", \"ɲ\", \"ŋ̟\"], # n \n",
    "                    [\"i\", \"j\", \"s\", \"ʃ\", \"z\", \"iː\", \"c\", \"zʲ\", \"s̪\", \"ʂ\", \"ʒ\", \"ɨ\", \"ʐ\"], # szeay  \n",
    "                    [\"l\", \"ð\", \"ɔ\", \"lʲ\", \"l̪\", \"θ\"], # l/th \n",
    "                    [\"u\", \"o\", \"w\", \"uː\", \"uə\", \"œ\"], # oo \n",
    "                    [\"f\", \"v\", \"ɯ\", \"y\", \"ʏ\"], # fv \n",
    "                    [\"r\", \"ɹ\", \"ɹ̩\"],# r \n",
    "                    [\"ə\", \"ʊ\"]] # o      \n",
    "    for n, i in enumerate(phonemeList):\n",
    "        if phoneme in i:\n",
    "            return n\n",
    "    print(phoneme + \" not found. Please place this phoneme in the appropriate mouth shape group.\")\n",
    "\n",
    "phoneme_groups = [\"aei\", \"cdkg\", \"m\", \"n\", \"szeay\", \"l/th\", \"oo\", \"fv\", \"r\", \"o\"] # should match the order in which the phonemeList is ordered\n",
    "\n",
    "phoneme_dict = {\n",
    "    \"a\": \"uh\",\n",
    "    \"aː\": \"uh\",\n",
    "    \"b\": \"b\",\n",
    "    \"d\": \"d\",\n",
    "    \"d̠\": \"d\",\n",
    "    \"e\": \"e\",\n",
    "    \"eː\": \"er\",\n",
    "    \"e̞\": \"e\",\n",
    "    \"f\": \"f\",\n",
    "    \"h\": \"h\",\n",
    "    \"ɪ\": \"i\",\n",
    "    \"iː\": \"ee\",\n",
    "    \"j\": \"y\",\n",
    "    \"k\": \"k\",\n",
    "    \"ɡ\": \"g\",\n",
    "    \"kʰ\": \"kh\",\n",
    "    \"l\": \"l\",\n",
    "    \"m\": \"m\",\n",
    "    \"n\": \"n\",\n",
    "    \"o\": \"o\",\n",
    "    \"oː\": \"o\",\n",
    "    \"p\": \"p\",\n",
    "    \"pʰ\": \"p\",\n",
    "    \"r\": \"r\",\n",
    "    \"ɹ̩\": \"r\",\n",
    "    \"s\": \"s\",\n",
    "    \"t\": \"t\",\n",
    "    \"tʰ\": \"t\",\n",
    "    \"t̠\": \"t\",\n",
    "    \"u\": \"oo\",\n",
    "    \"uː\": \"oo\",\n",
    "    \"v\": \"v\",\n",
    "    \"w\": \"w\",\n",
    "    \"x\": \"x\",\n",
    "    \"z\": \"z\",\n",
    "    \"æ\": \"ah\",\n",
    "    \"ð\": \"th\",\n",
    "    \"øː\": \"uu\",\n",
    "    \"ŋ\": \"ng\",\n",
    "    \"ɐ\": \"uh\",\n",
    "    \"ɐː\": \"uh\",\n",
    "    \"ɑ\": \"ah\",\n",
    "    \"ɑː\": \"ah\",\n",
    "    \"ɔ\": \"aw\",\n",
    "    \"ɔː\": \"aw\",\n",
    "    \"ɘ\": \"uh\",\n",
    "    \"ə\": \"eh\",\n",
    "    \"əː\": \"eh\",\n",
    "    \"ɛ\": \"eh\",\n",
    "    \"ɛː\": \"eh\",\n",
    "    \"ɜː\": \"er\",\n",
    "    \"ɹ\": \"r\",\n",
    "    \"ɻ\": \"r\",\n",
    "    \"ʃ\": \"sh\",\n",
    "    \"ʉ\": \"oo\",\n",
    "    \"ʉː\": \"oo\",\n",
    "    \"ʊ\": \"oo\",\n",
    "    \"ʌ\": \"oo\",\n",
    "    \"ʍ\": \"\",\n",
    "    \"ʒ\": \"j\",\n",
    "    \"ʔ\": \"tt\",\n",
    "    \"θ\": \"th\",\n",
    "    \"t͡ʃ\": \"tsh\", #blended cases\n",
    "    \"d͡ʒ\": \"j\",\n",
    "}"
   ]
  },
  {
   "cell_type": "markdown",
   "metadata": {},
   "source": [
    "# Process"
   ]
  },
  {
   "cell_type": "code",
   "execution_count": 41,
   "metadata": {},
   "outputs": [
    {
     "name": "stderr",
     "output_type": "stream",
     "text": [
      "C:\\Users\\joshu\\AppData\\Local\\Temp\\ipykernel_35960\\2646815474.py:36: SettingWithCopyWarning: \n",
      "A value is trying to be set on a copy of a slice from a DataFrame\n",
      "\n",
      "See the caveats in the documentation: https://pandas.pydata.org/pandas-docs/stable/user_guide/indexing.html#returning-a-view-versus-a-copy\n",
      "  time_df[\"Duration\"].loc[time_df.shape[0]-1] = MAX_DURATION # setting last phoneme's duration\n"
     ]
    }
   ],
   "source": [
    "time = model.recognize(FILEPATH, \"eng\", timestamp=True, emit=1)\n",
    "\n",
    "dtypes = {\"StartTime\": \"float64\", \"Duration\": \"float64\", \"Phoneme\": \"object\"}\n",
    "col_names = [\"StartTime\", \"Duration\", \"Phoneme\"] \n",
    "\n",
    "time_df = pd.DataFrame([i.split() for i in time.split(\"\\n\")], columns=col_names)\n",
    "\n",
    "\n",
    "# processing data\n",
    "time_df[\"StartTime\"] = time_df[\"StartTime\"].astype(\"float\")\n",
    "time_df[\"Duration\"] = time_df[\"StartTime\"].diff().shift(-1)\n",
    "time_df[\"Grapheme\"] = replace(time_df[\"Phoneme\"], phoneme_dict, \"-\")\n",
    "time_df[\"GroupNo\"] = time_df[\"Phoneme\"].apply(findPhonemeGroup)\n",
    "time_df[\"Group\"] = time_df[\"GroupNo\"].apply(lambda x: phoneme_groups[int(x)])\n",
    "\n",
    "# creating closed mouth keyframes for phonemes that have a duration longer than the given max duration\n",
    "mask = np.where(time_df[\"Duration\"] > MAX_DURATION)\n",
    "long = time_df.iloc[mask].copy()\n",
    "long[\"StartTime\"] = long[\"StartTime\"] + MAX_DURATION - 0.1\n",
    "long[\"Duration\"] = long[\"Duration\"] - MAX_DURATION\n",
    "long[\"Phoneme\"] = '. '\n",
    "long[\"Grapheme\"] = '. '\n",
    "long[\"GroupNo\"] = -1\n",
    "long[\"Group\"] = \"close\"\n",
    "\n",
    "time_df.loc[time_df[\"Duration\"] > MAX_DURATION, \"Duration\"] = MAX_DURATION\n",
    "\n",
    "time_df = pd.concat([time_df, long]).sort_values([\"StartTime\"]).reset_index(drop=True)\n",
    "\n",
    "# initializing the first keyframe as a closed mouth keyframe\n",
    "time_df.loc[-1] = [0, time_df.loc[0][\"StartTime\"], '.', '.', -1, 'close']\n",
    "time_df.index += 1\n",
    "time_df = time_df.sort_index()\n",
    "\n",
    "# adding last keyframe as a closed mouth keyframe\n",
    "time_df[\"Duration\"].loc[time_df.shape[0]-1] = MAX_DURATION # setting last phoneme's duration\n",
    "time_df.loc[time_df.shape[0]] = [time_df.loc[time_df.shape[0]-1][\"StartTime\"] + MAX_DURATION, 1.0, '.', '.', -1, 'close']\n",
    "\n",
    "time_df.to_csv(\"test.csv\", index=False)"
   ]
  },
  {
   "cell_type": "markdown",
   "metadata": {},
   "source": [
    "follow similar procedure to [this video](https://www.youtube.com/watch?v=Kuw9xoS5wxw&list=PLg4tPAeoYVcUnzH8xHBfFhrtiy2rvjxaH&index=1)"
   ]
  }
 ],
 "metadata": {
  "kernelspec": {
   "display_name": "Python 3.10.4 64-bit",
   "language": "python",
   "name": "python3"
  },
  "language_info": {
   "codemirror_mode": {
    "name": "ipython",
    "version": 3
   },
   "file_extension": ".py",
   "mimetype": "text/x-python",
   "name": "python",
   "nbconvert_exporter": "python",
   "pygments_lexer": "ipython3",
   "version": "3.10.4"
  },
  "orig_nbformat": 4,
  "vscode": {
   "interpreter": {
    "hash": "3a501d581e90d4f78ac42f5e05b2bd2f2b7ecd267861db3f3c2661c594f10a95"
   }
  }
 },
 "nbformat": 4,
 "nbformat_minor": 2
}
